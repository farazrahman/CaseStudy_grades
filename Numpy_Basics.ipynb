{
  "nbformat": 4,
  "nbformat_minor": 0,
  "metadata": {
    "colab": {
      "name": "Numpy Basics",
      "version": "0.3.2",
      "provenance": [],
      "collapsed_sections": [],
      "include_colab_link": true
    },
    "kernelspec": {
      "name": "python3",
      "display_name": "Python 3"
    }
  },
  "cells": [
    {
      "cell_type": "markdown",
      "metadata": {
        "id": "view-in-github",
        "colab_type": "text"
      },
      "source": [
        "<a href=\"https://colab.research.google.com/github/farazrahman/CaseStudy_grades/blob/master/Numpy_Basics.ipynb\" target=\"_parent\"><img src=\"https://colab.research.google.com/assets/colab-badge.svg\" alt=\"Open In Colab\"/></a>"
      ]
    },
    {
      "metadata": {
        "id": "M15mEld_kG7J",
        "colab_type": "code",
        "colab": {}
      },
      "cell_type": "code",
      "source": [
        "import numpy as np"
      ],
      "execution_count": 0,
      "outputs": []
    },
    {
      "metadata": {
        "id": "jsw9-JMGkWtM",
        "colab_type": "code",
        "colab": {
          "base_uri": "https://localhost:8080/",
          "height": 121
        },
        "outputId": "02521e90-0ba5-4aac-a452-077b07201fd4"
      },
      "cell_type": "code",
      "source": [
        "#Description\n",
        "#Create a 3*3 array using list_1 = [1,2,3] list_2 = [4,5,6] list_3 = [7,8,9]\n",
        "\n",
        "list_1 = [1,2,3]\n",
        "list_2 = [4,5,6] \n",
        "list_3 = [7,8,9]\n",
        "\n",
        "array_3d = np.array([[list_1], [list_2], [list_3]])\n",
        "\n",
        "print(array_3d)\n",
        "\n",
        "print(type(array_3d))"
      ],
      "execution_count": 6,
      "outputs": [
        {
          "output_type": "stream",
          "text": [
            "[[[1 2 3]]\n",
            "\n",
            " [[4 5 6]]\n",
            "\n",
            " [[7 8 9]]]\n",
            "<class 'numpy.ndarray'>\n"
          ],
          "name": "stdout"
        }
      ]
    },
    {
      "metadata": {
        "id": "ZLU85LexmgEd",
        "colab_type": "code",
        "colab": {
          "base_uri": "https://localhost:8080/",
          "height": 69
        },
        "outputId": "afc0420f-d85f-48d6-862a-a3e76474a000"
      },
      "cell_type": "code",
      "source": [
        "#Description\n",
        "#Perform an element-wise multiplication using list_1 = [2,3,4,5] list_2 = [7,8,9,6] and obtain the output as a list. \n",
        "\n",
        "list_1 = [2,3,4,5] \n",
        "list_2 = [7,8,9,6]\n",
        "\n",
        "list_1 = np.array(list_1)\n",
        "list_2 = np.array(list_2)\n",
        "\n",
        "array_product = list_1*list_2\n",
        "\n",
        "print(array_product)\n",
        "\n",
        "print(type(array_product))\n",
        "\n",
        "#Convert the product array to list\n",
        "\n",
        "array_list = list(array_product)\n",
        "\n",
        "print(type(array_list))"
      ],
      "execution_count": 14,
      "outputs": [
        {
          "output_type": "stream",
          "text": [
            "[14 24 36 30]\n",
            "<class 'numpy.ndarray'>\n",
            "<class 'list'>\n"
          ],
          "name": "stdout"
        }
      ]
    },
    {
      "metadata": {
        "id": "SvECOm6apsgq",
        "colab_type": "code",
        "colab": {
          "base_uri": "https://localhost:8080/",
          "height": 87
        },
        "outputId": "36abf633-a98a-411b-fe4a-af407bb554ad"
      },
      "cell_type": "code",
      "source": [
        "#Description\n",
        "#Convert a list list_1 = [1,2,3,4] and a tuple tuple_1 = (5,6,7,8) to an array.\n",
        "\n",
        "list_1 = [1,2,3,4] \n",
        "tuple_1 = (5,6,7,8)\n",
        "\n",
        "list_array = np.array(list_1)\n",
        "tupple_array = np.array(tuple_1)\n",
        "\n",
        "print(list_array)\n",
        "print(tupple_array)\n",
        "\n",
        "print(type(list_array))\n",
        "print(type(tupple_array))"
      ],
      "execution_count": 19,
      "outputs": [
        {
          "output_type": "stream",
          "text": [
            "[1 2 3 4]\n",
            "[5 6 7 8]\n",
            "<class 'numpy.ndarray'>\n",
            "<class 'numpy.ndarray'>\n"
          ],
          "name": "stdout"
        }
      ]
    },
    {
      "metadata": {
        "id": "4DGRrKJTvRPx",
        "colab_type": "code",
        "colab": {
          "base_uri": "https://localhost:8080/",
          "height": 87
        },
        "outputId": "e04ca74e-7339-4ee3-cf60-03e80c307387"
      },
      "cell_type": "code",
      "source": [
        "#Description\n",
        "#Create an array of all ones of size 3*3 having integer values. \n",
        "#Hint: Use dtype to specify integer.\n",
        "\n",
        "array_ones = np.ones((3,3), dtype = int)\n",
        "\n",
        "print(type(array_ones))\n",
        "\n",
        "print(array_ones)"
      ],
      "execution_count": 22,
      "outputs": [
        {
          "output_type": "stream",
          "text": [
            "<class 'numpy.ndarray'>\n",
            "[[1 1 1]\n",
            " [1 1 1]\n",
            " [1 1 1]]\n"
          ],
          "name": "stdout"
        }
      ]
    },
    {
      "metadata": {
        "id": "suvAIdWtv-Td",
        "colab_type": "code",
        "colab": {
          "base_uri": "https://localhost:8080/",
          "height": 35
        },
        "outputId": "6aa1bef7-41a8-43ac-d4ed-8f3e60b98fc7"
      },
      "cell_type": "code",
      "source": [
        "#Description\n",
        "#Create an array of first 10 multiples of 5 using the 'arange' function.\n",
        "\n",
        "array_multiplesof5 = np.arange(5,55,5)\n",
        "\n",
        "print(array_multiplesof5)\n",
        "\n"
      ],
      "execution_count": 26,
      "outputs": [
        {
          "output_type": "stream",
          "text": [
            "[ 5 10 15 20 25 30 35 40 45 50]\n"
          ],
          "name": "stdout"
        }
      ]
    }
  ]
}